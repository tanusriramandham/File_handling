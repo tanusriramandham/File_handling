{
 "cells": [
  {
   "cell_type": "markdown",
   "id": "2242c5d6-4bcd-411c-ba79-c842a66e4c2b",
   "metadata": {},
   "source": [
    "1) What are the different modes used when opening a file in Python (e.g., r, w, a, etc.), and what do they mean?\n",
    " \n",
    "2) Explain the difference between text files and binary files.\n",
    " \n",
    "3) What is the purpose of the with statement when working with files in Python?\n",
    " \n",
    "4) What happens if you try to read from a file that does not exist? How can you prevent the program from crashing?\n",
    " \n",
    "5) What is the difference between using open() and close() explicitly versus using a context manager (with statement) to handle file operations?\n",
    " \n",
    "6) Describe how you would handle reading and writing CSV, JSON, or XML files using Python.\n",
    " \n",
    "7) If you were developing a backup system, how would you handle file read/write operations to ensure data integrity and avoid corruption?"
   ]
  },
  {
   "cell_type": "markdown",
   "id": "18238712-7eac-4771-b67f-b15750250ffb",
   "metadata": {},
   "source": [
    "1. What are the different modes used when opening a file in Python (e.g., r, w, a, etc.), and what do they mean?\n",
    "- r reading  a file fiel must close after reading\n",
    "- w for writing a new file or adding data to existing file\n",
    "- a for adding data to existing file at the end \n",
    "- x for creating new file\n",
    "# all these can be done in binary modes also\n",
    "- rb reading a file in binary format\n",
    "- wb for writing in binary format\n",
    "- ab for writing in binary format at the end of the existing file\n",
    "- xb creates a binary file and opens it for writing\n",
    "# some other are as follows\n",
    "- r+ open the file for reading and writing only if exists\n",
    "- w+ open the file for reading and writing if exists otherwise creates anew file\n"
   ]
  },
  {
   "cell_type": "markdown",
   "id": "a45d898e-74fc-4aeb-acbe-9c277ab2c775",
   "metadata": {},
   "source": [
    "# 2) Explain the difference between text files and binary files."
   ]
  },
  {
   "cell_type": "markdown",
   "id": "6525b6ff-2782-48db-90bc-caffbc57374d",
   "metadata": {},
   "source": [
    " A text file stores data as human-readable characters, allowing you to open and edit it with a standard text editor, while a binary file stores data in a format not meant for human eyes, requiring specific software to interpret and usually containing complex data like images, audio, or executable programs\n",
    "### text file : .txt, .csv, .json changes can be done by reading with open fiel mode as 'r' and 'w' to change\n",
    "### binary files:.jpg, .mp3, .exe, .zip cant be read or write directly in text editr  read using 'rb' and write using 'wb' append using  'ab'"
   ]
  },
  {
   "cell_type": "markdown",
   "id": "4a173a54-81d8-4cb8-9954-5f55041da339",
   "metadata": {},
   "source": [
    "#  What is the purpose of the with statement when working with files in Python?"
   ]
  },
  {
   "cell_type": "markdown",
   "id": "a7645490-8472-4a66-963e-25171b700b7c",
   "metadata": {},
   "source": [
    "\"with\"  automatically handles the opening and closing of a file, ensuring that the file is properly closed even if an exception occurs within the code block, helps in not loosing the data.\n",
    "- takes care of closing the file automatically eliminating the meed to expilicitly calling the file.close()\n",
    "- if error occour also the file will be closed surely\n",
    "  "
   ]
  },
  {
   "cell_type": "markdown",
   "id": "e5923c5d-49dd-489d-a9a0-15a73a26d8ae",
   "metadata": {},
   "source": [
    "# 4) What happens if you try to read from a file that does not exist? How can you prevent the program from crashing?"
   ]
  },
  {
   "cell_type": "code",
   "execution_count": 1,
   "id": "2bf76d69-5393-43f6-8815-9143b7e5c2c6",
   "metadata": {},
   "outputs": [
    {
     "ename": "FileNotFoundError",
     "evalue": "[Errno 2] No such file or directory: 'nofile.txt'",
     "output_type": "error",
     "traceback": [
      "\u001b[1;31m---------------------------------------------------------------------------\u001b[0m",
      "\u001b[1;31mFileNotFoundError\u001b[0m                         Traceback (most recent call last)",
      "Cell \u001b[1;32mIn[1], line 1\u001b[0m\n\u001b[1;32m----> 1\u001b[0m \u001b[38;5;28;01mwith\u001b[39;00m \u001b[38;5;28mopen\u001b[39m(\u001b[38;5;124m'\u001b[39m\u001b[38;5;124mnofile.txt\u001b[39m\u001b[38;5;124m'\u001b[39m,\u001b[38;5;124m'\u001b[39m\u001b[38;5;124mr\u001b[39m\u001b[38;5;124m'\u001b[39m) \u001b[38;5;28;01mas\u001b[39;00m f:\n\u001b[0;32m      2\u001b[0m     content\u001b[38;5;241m=\u001b[39mf\u001b[38;5;241m.\u001b[39mread()\n",
      "File \u001b[1;32m~\\anaconda3\\Lib\\site-packages\\IPython\\core\\interactiveshell.py:324\u001b[0m, in \u001b[0;36m_modified_open\u001b[1;34m(file, *args, **kwargs)\u001b[0m\n\u001b[0;32m    317\u001b[0m \u001b[38;5;28;01mif\u001b[39;00m file \u001b[38;5;129;01min\u001b[39;00m {\u001b[38;5;241m0\u001b[39m, \u001b[38;5;241m1\u001b[39m, \u001b[38;5;241m2\u001b[39m}:\n\u001b[0;32m    318\u001b[0m     \u001b[38;5;28;01mraise\u001b[39;00m \u001b[38;5;167;01mValueError\u001b[39;00m(\n\u001b[0;32m    319\u001b[0m         \u001b[38;5;124mf\u001b[39m\u001b[38;5;124m\"\u001b[39m\u001b[38;5;124mIPython won\u001b[39m\u001b[38;5;124m'\u001b[39m\u001b[38;5;124mt let you open fd=\u001b[39m\u001b[38;5;132;01m{\u001b[39;00mfile\u001b[38;5;132;01m}\u001b[39;00m\u001b[38;5;124m by default \u001b[39m\u001b[38;5;124m\"\u001b[39m\n\u001b[0;32m    320\u001b[0m         \u001b[38;5;124m\"\u001b[39m\u001b[38;5;124mas it is likely to crash IPython. If you know what you are doing, \u001b[39m\u001b[38;5;124m\"\u001b[39m\n\u001b[0;32m    321\u001b[0m         \u001b[38;5;124m\"\u001b[39m\u001b[38;5;124myou can use builtins\u001b[39m\u001b[38;5;124m'\u001b[39m\u001b[38;5;124m open.\u001b[39m\u001b[38;5;124m\"\u001b[39m\n\u001b[0;32m    322\u001b[0m     )\n\u001b[1;32m--> 324\u001b[0m \u001b[38;5;28;01mreturn\u001b[39;00m io_open(file, \u001b[38;5;241m*\u001b[39margs, \u001b[38;5;241m*\u001b[39m\u001b[38;5;241m*\u001b[39mkwargs)\n",
      "\u001b[1;31mFileNotFoundError\u001b[0m: [Errno 2] No such file or directory: 'nofile.txt'"
     ]
    }
   ],
   "source": [
    "with open('nofile.txt','r') as f:\n",
    "    content=f.read()"
   ]
  },
  {
   "cell_type": "markdown",
   "id": "bca459de-4506-4bb5-b7a6-a0426bae87c8",
   "metadata": {},
   "source": [
    "# gives the file not found error \n",
    "- to avoid this we can use exception handling try  except\n"
   ]
  },
  {
   "cell_type": "code",
   "execution_count": 4,
   "id": "3d4b6cda-e7c0-44b5-8b6d-726f96bcdcfa",
   "metadata": {},
   "outputs": [
    {
     "name": "stdout",
     "output_type": "stream",
     "text": [
      "Error: the file is not existing check AND try again\n"
     ]
    }
   ],
   "source": [
    "try:\n",
    "    with open('nofile.txt','r') as f:\n",
    "        content=f.read()\n",
    "        print(content)\n",
    "except FileNotFoundError:\n",
    "    print(\"Error: the file is not existing check AND try again\")\n",
    "    "
   ]
  },
  {
   "cell_type": "markdown",
   "id": "3cba1d85-2a6f-40a2-8725-3287e362d723",
   "metadata": {},
   "source": [
    "# 5) What is the difference between using open() and close() explicitly versus using a context manager (with statement) to handle file operations?"
   ]
  },
  {
   "cell_type": "markdown",
   "id": "fa52a136-62fa-40a5-8f2a-2e84d4fce8e1",
   "metadata": {},
   "source": [
    "must manually close the file using file.close(). \n",
    "If you forget to close it, the file remains open, which can lead to memory leaks or file corruption."
   ]
  },
  {
   "cell_type": "markdown",
   "id": "97c9b1a0-c865-4d8f-9b15-c95c786caf48",
   "metadata": {},
   "source": [
    "- If an exception occurs before close(), the file remains open.\n",
    "- Consuming system resources unnecessarily."
   ]
  },
  {
   "cell_type": "markdown",
   "id": "b4e39bee-9399-4d4a-93a5-ddd3f3c48062",
   "metadata": {},
   "source": [
    "- Using with open() as file: automatically closes the file when the block exits, even if an error occurs.\n",
    "- auatomatic cleanup\n",
    "- handles exceptons\n",
    "- more readble and safe"
   ]
  },
  {
   "cell_type": "markdown",
   "id": "20652e63-b9ec-4125-bc27-86a54dbb356c",
   "metadata": {},
   "source": [
    "# 6) Describe how you would handle reading and writing CSV, JSON, or XML files using Python."
   ]
  },
  {
   "cell_type": "markdown",
   "id": "91644852-3f85-4050-b5e3-48ae7cbc374b",
   "metadata": {},
   "source": [
    "- these need different libraries for each\n",
    "- CSV Module\n",
    "- helps in reading the content of csv file and writing in to the csv file\n",
    "- we can also read csv file as dictionary with this CSV module\n",
    "- same with json"
   ]
  },
  {
   "cell_type": "code",
   "execution_count": 5,
   "id": "f8e5dd5a-bfbf-4143-8a3c-d4e97ce5c75b",
   "metadata": {},
   "outputs": [
    {
     "name": "stdout",
     "output_type": "stream",
     "text": [
      "['Name', 'age']\n",
      "['Krish', '31']\n",
      "['Sudhanshu', '30']\n",
      "['Sunny', '29']\n"
     ]
    }
   ],
   "source": [
    "import csv\n",
    "with open('test1.csv','r') as file:\n",
    "    reader=csv.reader(file)\n",
    "    for row in reader:\n",
    "        print(row)\n",
    "                      # using CSV module"
   ]
  },
  {
   "cell_type": "code",
   "execution_count": 7,
   "id": "4f13288f-81ee-4b63-b72b-877bde3c42d8",
   "metadata": {},
   "outputs": [
    {
     "name": "stdout",
     "output_type": "stream",
     "text": [
      "Name,age\n",
      "Krish,31\n",
      "Sudhanshu,30\n",
      "Sunny,29\n",
      "\n"
     ]
    }
   ],
   "source": [
    "with open('test1.csv','r') as file:\n",
    "    reader=file.read()\n",
    "    print(reader)      # normal way"
   ]
  },
  {
   "cell_type": "markdown",
   "id": "2eaf5948-4464-4863-87eb-486cd35135ff",
   "metadata": {},
   "source": [
    "- JSON (JavaScript Object Notation) is used for structured data exchange.\n",
    "- reading a JSON file is json.load\n",
    "- writing to a json File is by json.dump()\n",
    "- "
   ]
  },
  {
   "cell_type": "code",
   "execution_count": 11,
   "id": "3c7125ac-a745-4017-9607-f619d92682f1",
   "metadata": {},
   "outputs": [],
   "source": [
    "import json\n",
    "\n",
    "with open(\"text2.json\", \"r\") as file:\n",
    "    data = json.load(file)  # Parses JSON into a Python dictionary\n",
    "    #print(data)\n"
   ]
  },
  {
   "cell_type": "markdown",
   "id": "4bdd6d58-6a38-4cc5-8a91-b04396d5d55f",
   "metadata": {},
   "source": [
    "# 7) If you were developing a backup system, how would you handle file read/write operations to ensure data integrity and avoid corruption?"
   ]
  },
  {
   "cell_type": "markdown",
   "id": "e0903c2b-42eb-4af2-a89c-5b8578009408",
   "metadata": {},
   "source": [
    "- using a with open () to prevent data loss to close the file automatically\n",
    "- write to a temporary file first rename it after the write is fully completed\n",
    "- hashing to verify data is correctly copied\n",
    "- file locking to prevent concurrent write issues\n",
    "- import fctnl\n",
    "- use a transaction log for resumable backups\n",
    "- keep a log of files that were successfully backedup\n",
    "- resume from the last successfull point if interrupted\n",
    "- use redundant storage and Versioning\n",
    "- store multiple copies in different locations\n",
    "- implement versioning to restore previous versuons\n",
    "- timestamped backups\n",
    "- automate and schedule backups\n",
    "- shutil,,schedule,timeetc"
   ]
  },
  {
   "cell_type": "code",
   "execution_count": null,
   "id": "e46b2568-8bee-4a90-aea8-4e54929ca48a",
   "metadata": {},
   "outputs": [],
   "source": []
  },
  {
   "cell_type": "code",
   "execution_count": null,
   "id": "8d8f55c0-a317-4d52-8e5a-b71b3a1755ed",
   "metadata": {},
   "outputs": [],
   "source": []
  },
  {
   "cell_type": "code",
   "execution_count": null,
   "id": "0998a001-6135-4ace-be0c-41fb54529107",
   "metadata": {},
   "outputs": [],
   "source": []
  },
  {
   "cell_type": "code",
   "execution_count": null,
   "id": "3d02ab99-0f87-41db-a98f-2e563382d226",
   "metadata": {},
   "outputs": [],
   "source": []
  },
  {
   "cell_type": "code",
   "execution_count": null,
   "id": "ff63453d-e258-40b0-855c-4fa86aa2c91a",
   "metadata": {},
   "outputs": [],
   "source": []
  },
  {
   "cell_type": "code",
   "execution_count": null,
   "id": "000784bf-ea58-44fd-9780-ff12c93fd8ca",
   "metadata": {},
   "outputs": [],
   "source": []
  },
  {
   "cell_type": "code",
   "execution_count": null,
   "id": "7b193eaa-74c1-4f69-8bdf-bf6cafdf3f98",
   "metadata": {},
   "outputs": [],
   "source": []
  },
  {
   "cell_type": "code",
   "execution_count": null,
   "id": "0e28c25b-aef4-48f4-af74-f7383b3c4d98",
   "metadata": {},
   "outputs": [],
   "source": []
  },
  {
   "cell_type": "code",
   "execution_count": null,
   "id": "1c05dfd4-084f-4b32-86ac-6fecb373520e",
   "metadata": {},
   "outputs": [],
   "source": []
  },
  {
   "cell_type": "code",
   "execution_count": null,
   "id": "fb1c194a-ad32-46ae-bb7b-22e25d4dff33",
   "metadata": {},
   "outputs": [],
   "source": []
  },
  {
   "cell_type": "code",
   "execution_count": null,
   "id": "ed06dca2-d8c0-4e58-9d6e-ddb25ebc855c",
   "metadata": {},
   "outputs": [],
   "source": []
  },
  {
   "cell_type": "code",
   "execution_count": null,
   "id": "65f4fd53-9776-4d0c-b832-1058e9c4d6a1",
   "metadata": {},
   "outputs": [],
   "source": []
  },
  {
   "cell_type": "code",
   "execution_count": null,
   "id": "2ca8989c-0993-4fd5-a3a4-78c9da7cdcc2",
   "metadata": {},
   "outputs": [],
   "source": []
  },
  {
   "cell_type": "code",
   "execution_count": null,
   "id": "b5b90c1c-b213-43dc-b394-225138470bb9",
   "metadata": {},
   "outputs": [],
   "source": []
  },
  {
   "cell_type": "code",
   "execution_count": null,
   "id": "6415e506-bbc8-4eea-87f5-dbf16f6e151d",
   "metadata": {},
   "outputs": [],
   "source": []
  },
  {
   "cell_type": "code",
   "execution_count": null,
   "id": "0cdbc081-7645-43b8-a0df-cb4d63b74650",
   "metadata": {},
   "outputs": [],
   "source": []
  },
  {
   "cell_type": "code",
   "execution_count": null,
   "id": "fe1f86db-3f60-41df-b0c7-8c9ebd6cab29",
   "metadata": {},
   "outputs": [],
   "source": []
  },
  {
   "cell_type": "code",
   "execution_count": 3,
   "id": "d162932f-a687-4aaf-98de-2f7c4e47cfb1",
   "metadata": {},
   "outputs": [
    {
     "name": "stdout",
     "output_type": "stream",
     "text": [
      "{\"name\": \"John\", \"age\": 30, \"city\": \"New York\"}\n",
      "{'name': 'John', 'age': 30, 'city': 'New York'}\n",
      "John\n"
     ]
    }
   ],
   "source": [
    "import json\n",
    "json_data = '{\"name\": \"John\", \"age\": 30, \"city\": \"New York\"}'\n",
    "python_dict = json.loads(json_data)   #reading from a json string\n",
    "print(json_data)\n",
    "print(python_dict)\n",
    "print(python_dict[\"name\"])\n"
   ]
  },
  {
   "cell_type": "code",
   "execution_count": 5,
   "id": "1e43074e-8a8e-46ae-8b09-cc1d2a992677",
   "metadata": {},
   "outputs": [],
   "source": [
    "with open(\"json_necessary.json\", \"r\") as file:\n",
    "    data = json.load(file)   #reading from a json file"
   ]
  },
  {
   "cell_type": "code",
   "execution_count": 6,
   "id": "b65cb3df-800d-474b-b502-3e452f45492d",
   "metadata": {},
   "outputs": [
    {
     "name": "stdout",
     "output_type": "stream",
     "text": [
      "{\"name\": \"Bob\", \"age\": 40, \"city\": \"Paris\"}\n"
     ]
    }
   ],
   "source": [
    "data = {\"name\": \"Bob\", \"age\": 40, \"city\": \"Paris\"}\n",
    "json_string = json.dumps(data)\n",
    "\n",
    "print(json_string)\n"
   ]
  },
  {
   "cell_type": "code",
   "execution_count": null,
   "id": "6a6b43d3-3c29-4f5c-80c7-3d03cac07d34",
   "metadata": {},
   "outputs": [],
   "source": []
  }
 ],
 "metadata": {
  "kernelspec": {
   "display_name": "Python 3 (ipykernel)",
   "language": "python",
   "name": "python3"
  },
  "language_info": {
   "codemirror_mode": {
    "name": "ipython",
    "version": 3
   },
   "file_extension": ".py",
   "mimetype": "text/x-python",
   "name": "python",
   "nbconvert_exporter": "python",
   "pygments_lexer": "ipython3",
   "version": "3.12.7"
  }
 },
 "nbformat": 4,
 "nbformat_minor": 5
}
