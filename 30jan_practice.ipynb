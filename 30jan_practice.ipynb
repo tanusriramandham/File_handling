{
 "cells": [
  {
   "cell_type": "code",
   "execution_count": 11,
   "id": "a26c2d14-2991-4245-89dd-f178e346af93",
   "metadata": {},
   "outputs": [
    {
     "name": "stdout",
     "output_type": "stream",
     "text": [
      "3.12.7 | packaged by Anaconda, Inc. | (main, Oct  4 2024, 13:17:27) [MSC v.1929 64 bit (AMD64)]\n"
     ]
    }
   ],
   "source": [
    "import sys\n",
    "print(sys.version)"
   ]
  },
  {
   "cell_type": "code",
   "execution_count": 24,
   "id": "b4301ef9-7ccd-4f1e-a78e-c28a22c3654e",
   "metadata": {},
   "outputs": [
    {
     "name": "stdout",
     "output_type": "stream",
     "text": [
      "Yes the dtype is dict True\n"
     ]
    }
   ],
   "source": [
    "import json \n",
    "with open('text2.json','r') as file:  #1  reading\n",
    "    content=json.load(file)           #2   loading the json file to data\n",
    "def check_data(data):\n",
    "    for i in content:\n",
    "        if isinstance(i,dict):\n",
    "           return True\n",
    "        else:\n",
    "            return False\n",
    "print(f\"Yes the dtype is dict {check_data(content)}\")            #3  checking the type of the json file "
   ]
  },
  {
   "cell_type": "code",
   "execution_count": 55,
   "id": "7de667c2-30a6-423c-a5ee-6d845d60f4b5",
   "metadata": {},
   "outputs": [],
   "source": [
    "#print(content)"
   ]
  },
  {
   "cell_type": "markdown",
   "id": "c00b9dcb-7a18-440d-81d8-e2f5120444f2",
   "metadata": {},
   "source": [
    "# versions of all the names"
   ]
  },
  {
   "cell_type": "code",
   "execution_count": 46,
   "id": "2b1fd505-03f8-4612-a070-a51cca78a5cf",
   "metadata": {},
   "outputs": [
    {
     "name": "stdout",
     "output_type": "stream",
     "text": [
      "[{'version': 6.1}, {'version': 1.88}, {'version': 7.27}, {'version': 2.53}, {'version': 6.49}, {'version': 1.9}, {'version': 5.9}, {'version': 9.32}, {'version': 5.21}, {'version': 3.17}, {'version': 6.44}, {'version': 9.1}, {'version': 1.59}, {'version': 2.35}, {'version': 8.34}, {'version': 7.47}, {'version': 1.32}, {'version': 6.29}, {'version': 1.62}, {'version': 4.45}, {'version': 3.18}, {'version': 5.01}, {'version': 2.04}, {'version': 9.31}, {'version': 7.8}, {'version': 8.56}, {'version': 9.96}, {'version': 3.53}, {'version': 5.16}, {'version': 3.9}, {'version': 1.88}, {'version': 4.84}, {'version': 3.65}, {'version': 2.69}, {'version': 3.78}, {'version': 7.37}, {'version': 5.36}, {'version': 8.95}, {'version': 1.03}, {'version': 7.22}, {'version': 1.01}, {'version': 7.32}, {'version': 7.47}, {'version': 4.95}, {'version': 9.97}, {'version': 1.98}, {'version': 5.03}, {'version': 8.18}, {'version': 6.95}, {'version': 7.17}, {'version': 4.45}, {'version': 3.61}, {'version': 6.68}, {'version': 7.93}, {'version': 4.78}, {'version': 6.3}, {'version': 2.05}, {'version': 7.64}, {'version': 2.07}, {'version': 9.36}, {'version': 6.69}, {'version': 6.53}, {'version': 3.42}, {'version': 7.68}, {'version': 4.95}, {'version': 6.81}, {'version': 7.13}, {'version': 6.52}, {'version': 1.54}, {'version': 9.34}, {'version': 6.83}, {'version': 2.09}, {'version': 1.08}, {'version': 9.55}, {'version': 5.27}, {'version': 9.33}, {'version': 1.4}, {'version': 9.48}, {'version': 8.81}, {'version': 7.56}, {'version': 4.55}, {'version': 4.59}, {'version': 4.75}, {'version': 8.51}, {'version': 1.31}, {'version': 2.5}, {'version': 6.47}, {'version': 3.77}, {'version': 5.31}, {'version': 1.75}, {'version': 8.23}, {'version': 8.95}, {'version': 7.82}, {'version': 7.95}, {'version': 2.98}, {'version': 8.4}, {'version': 9.17}, {'version': 4.66}, {'version': 8.96}, {'version': 8.82}, {'version': 7.87}, {'version': 9.17}, {'version': 8.3}, {'version': 3.27}, {'version': 3.86}, {'version': 9.56}, {'version': 6.78}, {'version': 3.97}, {'version': 8.35}, {'version': 3.76}, {'version': 1.18}, {'version': 5.48}, {'version': 4.23}, {'version': 7.49}, {'version': 4.58}, {'version': 5.78}, {'version': 2.27}, {'version': 5.57}, {'version': 1.18}, {'version': 6.69}, {'version': 7.8}, {'version': 1.64}, {'version': 3.28}, {'version': 9.59}, {'version': 5.84}, {'version': 2.89}, {'version': 4.85}, {'version': 4.83}, {'version': 1.07}, {'version': 1.06}, {'version': 6.03}, {'version': 7.18}, {'version': 4.56}, {'version': 3.39}, {'version': 5.1}, {'version': 9.99}, {'version': 1.72}, {'version': 2.5}, {'version': 8.1}, {'version': 9.41}, {'version': 9.01}, {'version': 4.77}, {'version': 3.37}, {'version': 1.75}, {'version': 4.94}, {'version': 9.1}, {'version': 4.99}, {'version': 3.99}, {'version': 8.86}, {'version': 9.05}, {'version': 5.22}, {'version': 6.63}, {'version': 9.66}, {'version': 9.07}, {'version': 4.43}, {'version': 6.23}, {'version': 3.07}, {'version': 5.99}, {'version': 8.7}, {'version': 5.59}, {'version': 6.78}, {'version': 5.36}, {'version': 7.58}, {'version': 4.65}, {'version': 5.16}, {'version': 5.24}, {'version': 7.86}, {'version': 4.12}, {'version': 9.86}, {'version': 4.77}, {'version': 7.9}, {'version': 2.09}, {'version': 6.93}, {'version': 4.82}, {'version': 1.08}, {'version': 1.92}, {'version': 8.59}, {'version': 8.21}, {'version': 6.99}, {'version': 3.6}, {'version': 4.93}, {'version': 1.79}, {'version': 5.21}, {'version': 6.32}, {'version': 5.93}, {'version': 9.37}, {'version': 8.22}, {'version': 2.95}, {'version': 5.35}, {'version': 3.68}, {'version': 5.23}, {'version': 5.73}, {'version': 2.8}, {'version': 9.3}, {'version': 8.04}, {'version': 8.39}, {'version': 2.69}]\n",
      "\n",
      "\n",
      "[{'name_version': ('Adeel Solangi', 6.1)}, {'name_version': ('Afzal Ghaffar', 1.88)}, {'name_version': ('Aamir Solangi', 7.27)}, {'name_version': ('Abla Dilmurat', 2.53)}, {'name_version': ('Adil Eli', 6.49)}, {'name_version': ('Adile Qadir', 1.9)}, {'name_version': ('Abdukerim Ibrahim', 5.9)}, {'name_version': ('Adil Abro', 9.32)}, {'name_version': ('Afonso VilarchÃ¡n', 5.21)}, {'name_version': ('Mark Schembri', 3.17)}, {'name_version': ('AntÃ\\xada Sixirei', 6.44)}, {'name_version': ('Aygul Mutellip', 9.1)}, {'name_version': ('Awais Shaikh', 1.59)}, {'name_version': ('Ambreen Ahmed', 2.35)}, {'name_version': ('Celtia Anes', 8.34)}, {'name_version': ('George Mifsud', 7.47)}, {'name_version': ('AytÃ¼rk Qasim', 1.32)}, {'name_version': ('DialÃ¨ Meso', 6.29)}, {'name_version': ('Breixo GalÃ¡ns', 1.62)}, {'name_version': ('Bieito Lorme', 4.45)}, {'name_version': ('Azrugul Osman', 3.18)}, {'name_version': ('Brais VerdiÃ±as', 5.01)}, {'name_version': ('Ekber Sadir', 2.04)}, {'name_version': ('Doreen Bartolo', 9.31)}, {'name_version': ('Ali Ayaz', 7.8)}, {'name_version': ('Guzelnur Polat', 8.56)}, {'name_version': ('John Falzon', 9.96)}, {'name_version': ('Erkin Qadir', 3.53)}, {'name_version': ('Anita Rajput', 5.16)}, {'name_version': ('Ayesha Khalique', 3.9)}, {'name_version': ('Pheladi Rammala', 1.88)}, {'name_version': ('AntÃ³n Caneiro', 4.84)}, {'name_version': ('Qahar Abdulla', 3.65)}, {'name_version': ('Reyhan Murat', 2.69)}, {'name_version': ('Tatapi Phogole', 3.78)}, {'name_version': ('Marcos Amboade', 7.37)}, {'name_version': ('Grace Tabone', 5.36)}, {'name_version': ('Shafqat Memon', 8.95)}, {'name_version': ('Zeynep Semet', 1.03)}, {'name_version': ('Meladi Papo', 7.22)}, {'name_version': ('Semet Alim', 1.01)}, {'name_version': ('Sabela Veloso', 7.32)}, {'name_version': ('Madule Ledimo', 7.47)}, {'name_version': ('Michelle Caruana', 4.95)}, {'name_version': ('Philip Camilleri', 9.97)}, {'name_version': ('Olalla Romeu', 1.98)}, {'name_version': ('Gulnur Perhat', 5.03)}, {'name_version': ('Hunadi Makgatho', 8.18)}, {'name_version': ('Charmaine Abela', 6.95)}, {'name_version': ('TumelÃ² Letamo', 7.17)}, {'name_version': ('Aneela Mohan', 4.45)}, {'name_version': ('KoketÅ¡o Montjane', 3.61)}, {'name_version': ('Tegra NÃºnez', 6.68)}, {'name_version': ('Dilnur Qeyser', 7.93)}, {'name_version': ('Tania Agius', 4.78)}, {'name_version': ('Iago Peirallo', 6.3)}, {'name_version': ('Mpho Lamola', 2.05)}, {'name_version': ('Josephine Balzan', 7.64)}, {'name_version': ('ThabÃ² Motongwane', 2.07)}, {'name_version': ('MmathabÃ² Mojapelo', 9.36)}, {'name_version': ('Kgabo Lerumo', 6.69)}, {'name_version': ('Lawrence Scicluna', 6.53)}, {'name_version': ('Iria Xamardo', 3.42)}, {'name_version': ('Joseph Grech', 7.68)}, {'name_version': ('Napogadi Selepe', 4.95)}, {'name_version': ('Lesetja Theko', 6.81)}, {'name_version': ('MartiÃ±o ArxÃ\\xadz', 7.13)}, {'name_version': ('MalehumÃ² Ledwaba', 6.52)}, {'name_version': ('Musa Yasin', 1.54)}, {'name_version': ('Lajwanti Kumari', 9.34)}, {'name_version': ('Maria Sammut', 6.83)}, {'name_version': ('Rita Busuttil', 2.09)}, {'name_version': ('Roi Fraguela', 1.08)}, {'name_version': ('Matome Molamo', 9.55)}, {'name_version': ('Mapula Selokela', 5.27)}, {'name_version': ('Noa Ervello', 9.33)}, {'name_version': ('Naseem Kakepoto', 1.4)}, {'name_version': ('sayama Amir', 9.48)}, {'name_version': ('MariÃ±a QuintÃ¡', 8.81)}, {'name_version': ('Memet Tursun', 7.56)}, {'name_version': ('Carmen Vella', 4.55)}, {'name_version': ('Sobia Khanam', 4.59)}, {'name_version': ('Raheela Ali', 4.75)}, {'name_version': ('Rashid Rajput', 8.51)}, {'name_version': ('UxÃ\\xada Feal', 1.31)}, {'name_version': ('Andrew Fenech', 2.5)}, {'name_version': ('Nicholas Micallef', 6.47)}, {'name_version': ('Paul Borg', 3.77)}, {'name_version': ('Sara Saleem', 5.31)}, {'name_version': ('Xurxo GolÃ¡n', 1.75)}, {'name_version': ('Peter Zammit', 8.23)}, {'name_version': ('Maname Mohlare', 8.95)}, {'name_version': ('TshepÃ¨ Mobu', 7.82)}, {'name_version': ('Monica Lohana', 7.95)}, {'name_version': ('Patigul Rahman', 2.98)}, {'name_version': ('Joanne Scerri', 8.4)}, {'name_version': ('Ratanang Maphutha', 9.17)}, {'name_version': ('Kamil Mehmud', 4.66)}, {'name_version': ('Thobile Mbele', 8.96)}, {'name_version': ('KristjÃ¡n KristjÃ¡nsson', 8.82)}, {'name_version': ('StefÃ¡n StefÃ¡nsson', 7.87)}, {'name_version': ('Preeti Rajdan', 9.17)}, {'name_version': ('Sanjay Trivedi', 8.3)}, {'name_version': ('Smiriti Sisodiya', 3.27)}, {'name_version': ('Sandeep Benarjee', 3.86)}, {'name_version': ('Damir Benic', 9.56)}, {'name_version': ('SigrÃºn KristjÃ¡nsdÃ³ttir', 6.78)}, {'name_version': ('Basetsana Thage', 3.97)}, {'name_version': ('Rajesh Santoshi', 8.35)}, {'name_version': ('MargrÃ©t MagnÃºsdÃ³ttir', 3.76)}, {'name_version': ('Makhosi Ngiba', 1.18)}, {'name_version': ('Lorato Bogosi', 5.48)}, {'name_version': ('Modisaotsile Bolokwe', 4.23)}, {'name_version': ('Mxolisi Mhlongo', 7.49)}, {'name_version': ('Moni Sisodiya', 4.58)}, {'name_version': ('Anna JÃ³nsdÃ³ttir', 5.78)}, {'name_version': ('Darko Basic', 2.27)}, {'name_version': ('Kedibonye Magogwe', 5.57)}, {'name_version': ('Nobuhle Xaba', 1.18)}, {'name_version': ('Monty Dubey', 6.69)}, {'name_version': ('Richa Choukse', 7.8)}, {'name_version': ('Dzenan Imamovic', 1.64)}, {'name_version': ('Amol Bhatnagar', 3.28)}, {'name_version': ('IngibjÃ¶rg Ã“lafsdÃ³ttir', 9.59)}, {'name_version': ('Shweta Chourasia', 5.84)}, {'name_version': ('Ayanda Ndimande', 2.89)}, {'name_version': ('SigurjÃ³n GuÃ°mundsson', 4.85)}, {'name_version': ('JÃ³hannes JÃ³hannsson', 4.83)}, {'name_version': ('Neo Dikgaka', 1.07)}, {'name_version': ('Sanja Jankovic', 1.06)}, {'name_version': ('Mogorosi Bakwena', 6.03)}, {'name_version': ('Ronak Gupta', 7.18)}, {'name_version': ('Ditiro Kgosi', 4.56)}, {'name_version': ('Jelena Maric', 3.39)}, {'name_version': ('Esha Sastry', 5.1)}, {'name_version': ('Chetana Hegde', 9.99)}, {'name_version': ('Rahul Shukla', 1.72)}, {'name_version': ('Samra Delic', 2.5)}, {'name_version': ('Mohan Pandey', 8.1)}, {'name_version': ('Haris Osmanovic', 9.41)}, {'name_version': ('Kenosi Kwenaemang', 9.01)}, {'name_version': ('Nontobeko Nzimande', 4.77)}, {'name_version': ('Sanjay Puranik', 3.37)}, {'name_version': ('Sethunya MpÅ¡we', 1.75)}, {'name_version': ('Dileep Chaturvedi', 4.94)}, {'name_version': ('Adnan Spahic', 9.1)}, {'name_version': ('Madhur Jain', 4.99)}, {'name_version': ('Nayan Mittal', 3.99)}, {'name_version': ('Kabelo Morwe', 8.86)}, {'name_version': ('Einar Einarsson', 9.05)}, {'name_version': ('Luka Lovren', 5.22)}, {'name_version': ('SigrÃ\\xadÃ°ur EinarsdÃ³ttir', 6.63)}, {'name_version': ('Sonu Jain', 9.66)}, {'name_version': ('Boitumelo Ngwako', 9.07)}, {'name_version': ('Shilpa Bhatia', 4.43)}, {'name_version': ('Modise Tau', 6.23)}, {'name_version': ('Reena Shrivastav', 3.07)}, {'name_version': ('Thabani Ngubani', 5.99)}, {'name_version': ('Gunnar Gunnarsson', 8.7)}, {'name_version': ('Lejla Selimagic', 5.59)}, {'name_version': ('Kgosietsile Bogatsu', 6.78)}, {'name_version': ('Sushant Bhargav', 5.36)}, {'name_version': ('Monika Nayak', 7.58)}, {'name_version': ('GuÃ°rÃºn GuÃ°mundsdÃ³ttir', 4.65)}, {'name_version': ('Shakti Menon', 5.16)}, {'name_version': ('Ndumiso Hlatshwayo', 5.24)}, {'name_version': ('Lucky Shastry', 7.86)}, {'name_version': ('Pule Matlhaku', 4.12)}, {'name_version': ('Raju Rathore', 9.86)}, {'name_version': ('Xolani Ngcobo', 4.77)}, {'name_version': ('Meenakshi Benjaree', 7.9)}, {'name_version': ('Ã“lafur MagnÃºsson', 2.09)}, {'name_version': ('Samir Simic', 6.93)}, {'name_version': ('Swarnika Soni', 4.82)}, {'name_version': ('Lavanya Mittal', 1.08)}, {'name_version': ('Bontle Mokgatle', 1.92)}, {'name_version': ('Prashant Chourey', 8.59)}, {'name_version': ('Prakash Malviya', 8.21)}, {'name_version': ('Ivana Kalic', 6.99)}, {'name_version': ('Ajeet Vasav', 3.6)}, {'name_version': ('JÃ³hanna JÃ³hannsdÃ³ttir', 4.93)}, {'name_version': ('Seema Thapar', 1.79)}, {'name_version': ('MarÃ\\xada StefÃ¡nsdÃ³ttir', 5.21)}, {'name_version': ('Denis Terzic', 6.32)}, {'name_version': ('Ana Livic', 5.93)}, {'name_version': ('Bukhosi Bhengu', 9.37)}, {'name_version': ('Siyabonga Sithole', 8.22)}, {'name_version': ('Meena Dubey', 2.95)}, {'name_version': ('Chandrika Gupta', 5.35)}, {'name_version': ('Akhilesh Khare', 3.68)}, {'name_version': ('Motsumi Basiang', 5.23)}, {'name_version': ('Neha Benjaree', 5.73)}, {'name_version': ('KristÃ\\xadn SigurÃ°ardÃ³ttir', 2.8)}, {'name_version': ('Rohini Vasav', 9.3)}, {'name_version': ('Sunil Kapoor', 8.04)}, {'name_version': ('Zamokuhle Zulu', 8.39)}, {'name_version': ('Bhupesh Menon', 2.69)}]\n"
     ]
    }
   ],
   "source": [
    "versions=[{'version':item['version']} for item in content]\n",
    "name_version=[{'name_version':(item['name'],item['version'])} for item in content]\n",
    "print(versions)\n",
    "print()\n",
    "print()\n",
    "print(name_version)"
   ]
  },
  {
   "cell_type": "markdown",
   "id": "72480f0b-bcce-4711-a01c-bafdc160332b",
   "metadata": {},
   "source": [
    "# dump all these name_versions in to json which is necessory  data\n"
   ]
  },
  {
   "cell_type": "code",
   "execution_count": 49,
   "id": "63d053e0-1e9f-4c28-95ec-0a753131a831",
   "metadata": {},
   "outputs": [],
   "source": [
    "with open('json_necessary.json','w') as file:\n",
    "    json.dump(name_version,file)               #dumping in to a json file"
   ]
  },
  {
   "cell_type": "code",
   "execution_count": 54,
   "id": "f82c1ea1-7876-4ef9-9c1a-a581f94c22dd",
   "metadata": {},
   "outputs": [
    {
     "name": "stdout",
     "output_type": "stream",
     "text": [
      "{'name_version': ['Adeel Solangi', 6.1]} {'name_version': ['Afzal Ghaffar', 1.88]}\n"
     ]
    }
   ],
   "source": [
    "with open('json_necessary.json','r') as f:\n",
    "    data=json.load(f)\n",
    "print(data[0],data[1])                      #checking  the dumped json file"
   ]
  },
  {
   "cell_type": "markdown",
   "id": "7f9cd16d-236e-45f2-a311-feb900d7de30",
   "metadata": {},
   "source": [
    "# CSV FILE read"
   ]
  },
  {
   "cell_type": "code",
   "execution_count": 58,
   "id": "1008ea87-f5ea-43bb-b65a-a4d758f4c6d4",
   "metadata": {},
   "outputs": [
    {
     "name": "stdout",
     "output_type": "stream",
     "text": [
      "<class 'str'>\n"
     ]
    }
   ],
   "source": [
    "with open('sales.csv','r') as f:\n",
    "    data=f.read()\n",
    "print(type(data))"
   ]
  },
  {
   "cell_type": "code",
   "execution_count": 77,
   "id": "47c9b6f5-ad78-451b-8776-171ef5518bea",
   "metadata": {},
   "outputs": [
    {
     "data": {
      "text/html": [
       "<div>\n",
       "<style scoped>\n",
       "    .dataframe tbody tr th:only-of-type {\n",
       "        vertical-align: middle;\n",
       "    }\n",
       "\n",
       "    .dataframe tbody tr th {\n",
       "        vertical-align: top;\n",
       "    }\n",
       "\n",
       "    .dataframe thead th {\n",
       "        text-align: right;\n",
       "    }\n",
       "</style>\n",
       "<table border=\"1\" class=\"dataframe\">\n",
       "  <thead>\n",
       "    <tr style=\"text-align: right;\">\n",
       "      <th></th>\n",
       "      <th>Item_Identifier</th>\n",
       "      <th>Item_Weight</th>\n",
       "      <th>Item_Fat_Content</th>\n",
       "      <th>Item_Visibility</th>\n",
       "      <th>Item_Type</th>\n",
       "      <th>Item_MRP</th>\n",
       "      <th>Outlet_Identifier</th>\n",
       "      <th>Outlet_Establishment_Year</th>\n",
       "      <th>Outlet_Size</th>\n",
       "      <th>Outlet_Location_Type</th>\n",
       "      <th>Outlet_Type</th>\n",
       "      <th>Item_Outlet_Sales</th>\n",
       "    </tr>\n",
       "  </thead>\n",
       "  <tbody>\n",
       "    <tr>\n",
       "      <th>0</th>\n",
       "      <td>FDA15</td>\n",
       "      <td>9.30</td>\n",
       "      <td>Low Fat</td>\n",
       "      <td>0.016047</td>\n",
       "      <td>Dairy</td>\n",
       "      <td>249.8092</td>\n",
       "      <td>OUT049</td>\n",
       "      <td>1999</td>\n",
       "      <td>Medium</td>\n",
       "      <td>Tier 1</td>\n",
       "      <td>Supermarket Type1</td>\n",
       "      <td>3735.1380</td>\n",
       "    </tr>\n",
       "    <tr>\n",
       "      <th>1</th>\n",
       "      <td>DRC01</td>\n",
       "      <td>5.92</td>\n",
       "      <td>Regular</td>\n",
       "      <td>0.019278</td>\n",
       "      <td>Soft Drinks</td>\n",
       "      <td>48.2692</td>\n",
       "      <td>OUT018</td>\n",
       "      <td>2009</td>\n",
       "      <td>Medium</td>\n",
       "      <td>Tier 3</td>\n",
       "      <td>Supermarket Type2</td>\n",
       "      <td>443.4228</td>\n",
       "    </tr>\n",
       "    <tr>\n",
       "      <th>2</th>\n",
       "      <td>FDN15</td>\n",
       "      <td>17.50</td>\n",
       "      <td>Low Fat</td>\n",
       "      <td>0.016760</td>\n",
       "      <td>Meat</td>\n",
       "      <td>141.6180</td>\n",
       "      <td>OUT049</td>\n",
       "      <td>1999</td>\n",
       "      <td>Medium</td>\n",
       "      <td>Tier 1</td>\n",
       "      <td>Supermarket Type1</td>\n",
       "      <td>2097.2700</td>\n",
       "    </tr>\n",
       "    <tr>\n",
       "      <th>3</th>\n",
       "      <td>FDX07</td>\n",
       "      <td>19.20</td>\n",
       "      <td>Regular</td>\n",
       "      <td>0.000000</td>\n",
       "      <td>Fruits and Vegetables</td>\n",
       "      <td>182.0950</td>\n",
       "      <td>OUT010</td>\n",
       "      <td>1998</td>\n",
       "      <td>NaN</td>\n",
       "      <td>Tier 3</td>\n",
       "      <td>Grocery Store</td>\n",
       "      <td>732.3800</td>\n",
       "    </tr>\n",
       "    <tr>\n",
       "      <th>4</th>\n",
       "      <td>NCD19</td>\n",
       "      <td>8.93</td>\n",
       "      <td>Low Fat</td>\n",
       "      <td>0.000000</td>\n",
       "      <td>Household</td>\n",
       "      <td>53.8614</td>\n",
       "      <td>OUT013</td>\n",
       "      <td>1987</td>\n",
       "      <td>High</td>\n",
       "      <td>Tier 3</td>\n",
       "      <td>Supermarket Type1</td>\n",
       "      <td>994.7052</td>\n",
       "    </tr>\n",
       "  </tbody>\n",
       "</table>\n",
       "</div>"
      ],
      "text/plain": [
       "  Item_Identifier  Item_Weight Item_Fat_Content  Item_Visibility  \\\n",
       "0           FDA15         9.30          Low Fat         0.016047   \n",
       "1           DRC01         5.92          Regular         0.019278   \n",
       "2           FDN15        17.50          Low Fat         0.016760   \n",
       "3           FDX07        19.20          Regular         0.000000   \n",
       "4           NCD19         8.93          Low Fat         0.000000   \n",
       "\n",
       "               Item_Type  Item_MRP Outlet_Identifier  \\\n",
       "0                  Dairy  249.8092            OUT049   \n",
       "1            Soft Drinks   48.2692            OUT018   \n",
       "2                   Meat  141.6180            OUT049   \n",
       "3  Fruits and Vegetables  182.0950            OUT010   \n",
       "4              Household   53.8614            OUT013   \n",
       "\n",
       "   Outlet_Establishment_Year Outlet_Size Outlet_Location_Type  \\\n",
       "0                       1999      Medium               Tier 1   \n",
       "1                       2009      Medium               Tier 3   \n",
       "2                       1999      Medium               Tier 1   \n",
       "3                       1998         NaN               Tier 3   \n",
       "4                       1987        High               Tier 3   \n",
       "\n",
       "         Outlet_Type  Item_Outlet_Sales  \n",
       "0  Supermarket Type1          3735.1380  \n",
       "1  Supermarket Type2           443.4228  \n",
       "2  Supermarket Type1          2097.2700  \n",
       "3      Grocery Store           732.3800  \n",
       "4  Supermarket Type1           994.7052  "
      ]
     },
     "execution_count": 77,
     "metadata": {},
     "output_type": "execute_result"
    }
   ],
   "source": [
    "import pandas as pd           #import pandas\n",
    "df=pd.read_csv('sales.csv')   #convert cav to dataFrame  # read csv file\n",
    "df.head()"
   ]
  },
  {
   "cell_type": "code",
   "execution_count": 88,
   "id": "2ed14023-fe1d-4f8c-8893-fb6859de5888",
   "metadata": {},
   "outputs": [],
   "source": [
    "new_item = pd.DataFrame({'Item_Identifier': ['FFFFF'], 'Item_Weight': [8.50], 'Item_Fat_Content': ['Regular'], 'Item_Visibility': [0.025]})\n",
    "df=pd.concat([df,new_item],ignore_index=True)"
   ]
  },
  {
   "cell_type": "code",
   "execution_count": 89,
   "id": "a8484197-522d-44ca-bee3-c9d2ef4ba145",
   "metadata": {},
   "outputs": [
    {
     "name": "stdout",
     "output_type": "stream",
     "text": [
      "     Item_Identifier  Item_Weight Item_Fat_Content  Item_Visibility  \\\n",
      "8520           NCJ29        10.60          Low Fat         0.035186   \n",
      "8521           FDN46         7.21          Regular         0.145221   \n",
      "8522           DRG01        14.80          Low Fat         0.044878   \n",
      "8523           FDA16         8.50          Regular         0.025000   \n",
      "8524           FFFFF         8.50          Regular         0.025000   \n",
      "\n",
      "               Item_Type  Item_MRP Outlet_Identifier  \\\n",
      "8520  Health and Hygiene   85.1224            OUT035   \n",
      "8521         Snack Foods  103.1332            OUT018   \n",
      "8522         Soft Drinks   75.4670            OUT046   \n",
      "8523                 NaN       NaN               NaN   \n",
      "8524                 NaN       NaN               NaN   \n",
      "\n",
      "      Outlet_Establishment_Year Outlet_Size Outlet_Location_Type  \\\n",
      "8520                     2004.0       Small               Tier 2   \n",
      "8521                     2009.0      Medium               Tier 3   \n",
      "8522                     1997.0       Small               Tier 1   \n",
      "8523                        NaN         NaN                  NaN   \n",
      "8524                        NaN         NaN                  NaN   \n",
      "\n",
      "            Outlet_Type  Item_Outlet_Sales  \n",
      "8520  Supermarket Type1          1193.1136  \n",
      "8521  Supermarket Type2          1845.5976  \n",
      "8522  Supermarket Type1           765.6700  \n",
      "8523                NaN                NaN  \n",
      "8524                NaN                NaN  \n"
     ]
    }
   ],
   "source": [
    "print(df.tail())  #our data is added to last"
   ]
  },
  {
   "cell_type": "code",
   "execution_count": 91,
   "id": "5d3e3235-d7e8-4175-b595-be6ec34d9323",
   "metadata": {},
   "outputs": [
    {
     "name": "stdout",
     "output_type": "stream",
     "text": [
      "     Item_Identifier  Item_Weight Item_Fat_Content  Item_Visibility Item_Type  \\\n",
      "8524           FFFFF          8.5          Regular            0.025       NaN   \n",
      "\n",
      "      Item_MRP Outlet_Identifier  Outlet_Establishment_Year Outlet_Size  \\\n",
      "8524       NaN               NaN                        NaN         NaN   \n",
      "\n",
      "     Outlet_Location_Type Outlet_Type  Item_Outlet_Sales  \n",
      "8524                  NaN         NaN                NaN  \n"
     ]
    }
   ],
   "source": [
    "filtered_df=df[df['Item_Identifier']=='FFFFF']\n",
    "print(filtered_df)"
   ]
  },
  {
   "cell_type": "code",
   "execution_count": null,
   "id": "51debe0c-7f99-4a6a-9119-b6dac6880b43",
   "metadata": {},
   "outputs": [],
   "source": []
  }
 ],
 "metadata": {
  "kernelspec": {
   "display_name": "Python 3 (ipykernel)",
   "language": "python",
   "name": "python3"
  },
  "language_info": {
   "codemirror_mode": {
    "name": "ipython",
    "version": 3
   },
   "file_extension": ".py",
   "mimetype": "text/x-python",
   "name": "python",
   "nbconvert_exporter": "python",
   "pygments_lexer": "ipython3",
   "version": "3.12.7"
  }
 },
 "nbformat": 4,
 "nbformat_minor": 5
}
